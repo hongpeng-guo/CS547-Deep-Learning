{
 "cells": [
  {
   "cell_type": "code",
   "execution_count": 1,
   "metadata": {},
   "outputs": [],
   "source": [
    "import numpy as np\n",
    "import h5py\n",
    "import time\n",
    "import copy\n",
    "from random import randint\n",
    "from utils import *"
   ]
  },
  {
   "cell_type": "code",
   "execution_count": 2,
   "metadata": {},
   "outputs": [],
   "source": [
    "#load MNIST data\n",
    "\n",
    "MNIST_data = h5py.File('MNISTdata.hdf5', 'r')\n",
    "x_train = np.float32(MNIST_data['x_train'][:] )\n",
    "y_train = np.int32(np.array(MNIST_data['y_train'][:,0]))\n",
    "x_test = np.float32( MNIST_data['x_test'][:] )\n",
    "y_test = np.int32( np.array( MNIST_data['y_test'][:,0] ) )\n",
    "MNIST_data.close()\n",
    "\n",
    "x_train, x_test = x_train.T, x_test.T\n",
    "y_train, y_test = np.eye(10)[y_train].T, np.eye(10)[y_test].T"
   ]
  },
  {
   "cell_type": "code",
   "execution_count": 3,
   "metadata": {},
   "outputs": [
    {
     "name": "stdout",
     "output_type": "stream",
     "text": [
      "(784, 60000) (10, 60000) (784, 10000) (10, 10000)\n"
     ]
    }
   ],
   "source": [
    "#Implementation of stochastic gradient descent algorithm\n",
    "\n",
    "num_inputs = 28*28\n",
    "num_hiddens = 128\n",
    "num_outputs = 10\n",
    "\n",
    "model = {}\n",
    "model['W'] = np.random.randn(num_hiddens,num_inputs)\n",
    "model['b1'] = np.random.randn(num_hiddens)\n",
    "model['C'] = np.random.randn(num_outputs, num_hiddens)\n",
    "model['b2'] = np.random.randn(num_outputs)\n",
    "grads = copy.deepcopy(model)\n",
    "\n",
    "print (x_train.shape, y_train.shape, x_test.shape, y_test.shape)"
   ]
  },
  {
   "cell_type": "code",
   "execution_count": 4,
   "metadata": {},
   "outputs": [
    {
     "name": "stdout",
     "output_type": "stream",
     "text": [
      "0.8822333333333333\n",
      "0.9392333333333334\n",
      "0.9545\n",
      "0.9628\n",
      "0.9689833333333333\n",
      "0.97345\n",
      "0.9787\n",
      "0.9817166666666667\n",
      "0.9827166666666667\n",
      "0.98395\n",
      "0.9877\n",
      "0.99075\n",
      "0.99455\n",
      "0.9958\n",
      "0.9967166666666667\n",
      "0.9974\n",
      "0.9977833333333334\n",
      "0.9980166666666667\n",
      "0.9982833333333333\n",
      "0.99835\n",
      "0.9985\n",
      "0.9986333333333334\n",
      "0.9988\n",
      "0.9988333333333334\n",
      "0.99885\n",
      "0.9988666666666667\n",
      "0.9988833333333333\n",
      "0.9988833333333333\n",
      "0.9988833333333333\n",
      "0.9988833333333333\n",
      "0.9988833333333333\n",
      "0.9989333333333333\n",
      "0.9989333333333333\n",
      "0.9989333333333333\n",
      "0.9989333333333333\n",
      "0.99895\n",
      "0.99895\n",
      "0.99895\n",
      "0.99895\n",
      "0.99895\n",
      "335.02962589263916\n"
     ]
    }
   ],
   "source": [
    "# Training Process\n",
    "\n",
    "import time\n",
    "time1 = time.time()\n",
    "LR = .1\n",
    "num_epochs = 40\n",
    "for epochs in range(num_epochs):\n",
    "\t#Learning rate schedule\n",
    "\tif (epochs > 10):\n",
    "\t\tLR = 0.01\n",
    "\tif (epochs > 20):\n",
    "\t\tLR = 0.001\n",
    "\tif (epochs > 30):\n",
    "\t\tLR = 0.0001\n",
    "\ttotal_correct = 0\n",
    "\tfor n in range(x_train.shape[1] // 5):\n",
    "\t\ty = y_train[:, 5*n: 5*n+5]\n",
    "\t\tx = x_train[:, 5*n: 5*n+5]\n",
    "\t\tcache = feed_forward(x, model)\n",
    "\t\tprediction = np.argmax(cache['R'], axis=0)\n",
    "\t\ttotal_correct += np.sum(prediction == np.argmax(y, axis=0))\n",
    "\t\tgrads = back_propagate(x, y, model, cache)\n",
    "\t\tmodel['W'] = model['W'] - LR * grads['W']\n",
    "\t\tmodel['C'] = model['C'] - LR * grads['C']\n",
    "\t\tmodel['b1'] = model['b1'] - LR * grads['b1']\n",
    "\t\tmodel['b2'] = model['b2'] - LR * grads['b2']\n",
    "\tprint(total_correct/np.float(x_train.shape[1]))\n",
    "time2 = time.time()\n",
    "print(time2-time1)"
   ]
  },
  {
   "cell_type": "code",
   "execution_count": 5,
   "metadata": {},
   "outputs": [
    {
     "name": "stdout",
     "output_type": "stream",
     "text": [
      "0.9709\n"
     ]
    }
   ],
   "source": [
    "#Testing Data\n",
    "\n",
    "total_correct = 0\n",
    "for n in range( x_test.shape[1] ):\n",
    "\ty = np.expand_dims(y_test[:, n], axis=1)\n",
    "\tx = np.expand_dims(x_test[:, n], axis=1)\n",
    "\tcache = feed_forward(x, model)\n",
    "\tprediction = np.argmax(cache['R'])\n",
    "\tif (prediction == np.argmax(y)):\n",
    "\t\ttotal_correct += 1\n",
    "print(total_correct/np.float(x_test.shape[1]) )"
   ]
  },
  {
   "cell_type": "code",
   "execution_count": null,
   "metadata": {},
   "outputs": [],
   "source": []
  }
 ],
 "metadata": {
  "kernelspec": {
   "display_name": "Python 3",
   "language": "python",
   "name": "python3"
  },
  "language_info": {
   "codemirror_mode": {
    "name": "ipython",
    "version": 3
   },
   "file_extension": ".py",
   "mimetype": "text/x-python",
   "name": "python",
   "nbconvert_exporter": "python",
   "pygments_lexer": "ipython3",
   "version": "3.5.2"
  }
 },
 "nbformat": 4,
 "nbformat_minor": 2
}
